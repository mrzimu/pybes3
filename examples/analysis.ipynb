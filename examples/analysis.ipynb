{
 "cells": [
  {
   "cell_type": "code",
   "execution_count": 1,
   "metadata": {},
   "outputs": [],
   "source": [
    "from pathlib import Path\n",
    "\n",
    "import awkward as ak\n",
    "import matplotlib.pyplot as plt\n",
    "import numpy as np\n",
    "\n",
    "import pybes3 as p3"
   ]
  },
  {
   "cell_type": "code",
   "execution_count": 2,
   "metadata": {},
   "outputs": [],
   "source": [
    "data_path = Path(\"../tests/test_data\")\n",
    "\n",
    "dst_data = p3.concatenate(\n",
    "    [data_path / \"test_full_mc_evt_1.dst\"],\n",
    "    \"Event/TDstEvent\",\n",
    ")\n",
    "\n",
    "header_data = p3.concatenate(\n",
    "    [data_path / \"test_full_mc_evt_1.dst\"],\n",
    "    \"Event/TEvtHeader\",\n",
    ")\n",
    "\n",
    "recobj_data = p3.concatenate(\n",
    "    [data_path / \"test_full_mc_evt_1.dst\"],\n",
    "    \"Event/TEvtRecObject\",\n",
    ")"
   ]
  },
  {
   "cell_type": "markdown",
   "metadata": {},
   "source": [
    "## Prepare the data"
   ]
  },
  {
   "cell_type": "code",
   "execution_count": 3,
   "metadata": {},
   "outputs": [
    {
     "data": {
      "text/plain": [
       "<MdcTrackCol: 10 events, 19 tracks>"
      ]
     },
     "execution_count": 3,
     "metadata": {},
     "output_type": "execute_result"
    }
   ],
   "source": [
    "# Mdc tracks\n",
    "mdc_trks = p3.analysis.MdcTrackCol(dst_data.m_mdcTrackCol)\n",
    "mdc_trks"
   ]
  },
  {
   "cell_type": "code",
   "execution_count": 4,
   "metadata": {},
   "outputs": [],
   "source": [
    "# Database Connector\n",
    "db_conn = p3.analysis.DatabaseConnector(\"bes3db2.ihep.ac.cn\", \"guest\", \"guestpass\")"
   ]
  },
  {
   "cell_type": "markdown",
   "metadata": {},
   "source": [
    "## Good track selection"
   ]
  },
  {
   "cell_type": "code",
   "execution_count": 5,
   "metadata": {},
   "outputs": [
    {
     "data": {
      "text/html": [
       "<pre>[{x: 0.214, y: -0.187, z: -0.0394, sigma_x: 0.0508, sigma_y: 0.0443, ...},\n",
       " {x: 0.214, y: -0.187, z: -0.0394, sigma_x: 0.0508, sigma_y: 0.0443, ...},\n",
       " {x: 0.214, y: -0.187, z: -0.0394, sigma_x: 0.0508, sigma_y: 0.0443, ...},\n",
       " {x: 0.214, y: -0.187, z: -0.0394, sigma_x: 0.0508, sigma_y: 0.0443, ...},\n",
       " {x: 0.214, y: -0.187, z: -0.0394, sigma_x: 0.0508, sigma_y: 0.0443, ...},\n",
       " {x: 0.214, y: -0.187, z: -0.0394, sigma_x: 0.0508, sigma_y: 0.0443, ...},\n",
       " {x: 0.214, y: -0.187, z: -0.0394, sigma_x: 0.0508, sigma_y: 0.0443, ...},\n",
       " {x: 0.214, y: -0.187, z: -0.0394, sigma_x: 0.0508, sigma_y: 0.0443, ...},\n",
       " {x: 0.214, y: -0.187, z: -0.0394, sigma_x: 0.0508, sigma_y: 0.0443, ...},\n",
       " {x: 0.214, y: -0.187, z: -0.0394, sigma_x: 0.0508, sigma_y: 0.0443, ...}]\n",
       "--------------------------------------------------------------------------\n",
       "type: 10 * {\n",
       "    x: float64,\n",
       "    y: float64,\n",
       "    z: float64,\n",
       "    sigma_x: float64,\n",
       "    sigma_y: float64,\n",
       "    sigma_z: float64\n",
       "}</pre>"
      ],
      "text/plain": [
       "<Array [{x: 0.214, y: -0.187, ...}, ..., {...}] type='10 * {x: float64, y: ...'>"
      ]
     },
     "execution_count": 5,
     "metadata": {},
     "output_type": "execute_result"
    }
   ],
   "source": [
    "vtx_db = p3.analysis.query_vertex(header_data.m_runId, \"7.0.8\", db_conn)\n",
    "vtx_db"
   ]
  },
  {
   "cell_type": "code",
   "execution_count": 6,
   "metadata": {},
   "outputs": [
    {
     "data": {
      "text/html": [
       "<pre>[[{dr: 0.00172, phi0: 0.737, kappa: -0.993, dz: 0.227, tanl: 0.676}, ...],\n",
       " [{dr: 0.00481, phi0: 2.6, kappa: -1.71, dz: -0.0393, tanl: 1.14}, {...}],\n",
       " [{dr: -0.328, phi0: 4.92, kappa: -1.44, dz: 6.42, tanl: -0.61}, {...}],\n",
       " [{dr: 0.0178, phi0: 3.41, kappa: -0.766, dz: 0.342, tanl: -0.502}, {...}],\n",
       " [{dr: -0.103, phi0: 3.59, kappa: 0.757, dz: 1.1, tanl: -0.0735}, {...}],\n",
       " [{dr: 0.0446, phi0: 4.05, kappa: 0.885, dz: 0.449, tanl: -0.806}, {...}],\n",
       " [{dr: -0.0223, phi0: 2.27, kappa: -0.809, dz: -0.239, tanl: -0.143}, ...],\n",
       " [{dr: -0.036, phi0: 3.32, kappa: -1.44, dz: 0.676, tanl: 0.203}, {...}],\n",
       " [{dr: 0.046, phi0: 0.203, kappa: -1.53, dz: 0.14, tanl: -1.78}],\n",
       " [{dr: -0.0195, phi0: 3.41, kappa: -0.919, dz: -1.75, tanl: -0.896}, ...]]\n",
       "---------------------------------------------------------------------------\n",
       "type: 10 * var * {\n",
       "    dr: float64,\n",
       "    phi0: float64,\n",
       "    kappa: float64,\n",
       "    dz: float64,\n",
       "    tanl: float64\n",
       "}</pre>"
      ],
      "text/plain": [
       "<Array [[{dr: 0.00172, ...}, {...}], ...] type='10 * var * {dr: float64, ph...'>"
      ]
     },
     "execution_count": 6,
     "metadata": {},
     "output_type": "execute_result"
    }
   ],
   "source": [
    "Bz = 1  # Tesla\n",
    "\n",
    "pivot_helix = p3.analysis.pivot(mdc_trks.helix, mdc_trks.n_trks, Bz, vtx_db)\n",
    "pivot_helix"
   ]
  },
  {
   "cell_type": "code",
   "execution_count": 8,
   "metadata": {},
   "outputs": [
    {
     "data": {
      "text/html": [
       "<pre>[[True, False],\n",
       " [True, True],\n",
       " [True, True],\n",
       " [True, True],\n",
       " [True, True],\n",
       " [True, True],\n",
       " [True, True],\n",
       " [True, True],\n",
       " [True],\n",
       " [True, True]]\n",
       "---------------------\n",
       "type: 10 * var * bool</pre>"
      ],
      "text/plain": [
       "<Array [[True, False], [True, ...], ..., [True, True]] type='10 * var * bool'>"
      ]
     },
     "execution_count": 8,
     "metadata": {},
     "output_type": "execute_result"
    }
   ],
   "source": [
    "dr_cut = 1\n",
    "dz_cut = 10\n",
    "\n",
    "good_trk_idx = p3.analysis.select_good_tracks(pivot_helix, mdc_trks.n_trks, dr_cut, dz_cut)\n",
    "good_trk_idx"
   ]
  },
  {
   "cell_type": "code",
   "execution_count": 13,
   "metadata": {},
   "outputs": [
    {
     "data": {
      "image/png": "[encoded data removed]",
      "text/plain": [
       "<Figure size 1000x400 with 2 Axes>"
      ]
     },
     "metadata": {},
     "output_type": "display_data"
    }
   ],
   "source": [
    "plt.figure(figsize=(10, 4))\n",
    "plt.subplot(1, 2, 1)\n",
    "plt.title(\"good tracks dr(cm)\")\n",
    "plt.hist(ak.flatten(pivot_helix[good_trk_idx].dr), bins=100, range=(-1, 1))\n",
    "plt.xlabel(\"dr(cm)\")\n",
    "\n",
    "plt.subplot(1, 2, 2)\n",
    "plt.title(\"good tracks dz(cm)\")\n",
    "plt.hist(ak.flatten(pivot_helix[good_trk_idx].dz), bins=100, range=(-10, 10))\n",
    "plt.xlabel(\"dz(cm)\")\n",
    "plt.show()"
   ]
  }
 ],
 "metadata": {
  "kernelspec": {
   "display_name": ".venv",
   "language": "python",
   "name": "python3"
  },
  "language_info": {
   "codemirror_mode": {
    "name": "ipython",
    "version": 3
   },
   "file_extension": ".py",
   "mimetype": "text/x-python",
   "name": "python",
   "nbconvert_exporter": "python",
   "pygments_lexer": "ipython3",
   "version": "3.9.19"
  }
 },
 "nbformat": 4,
 "nbformat_minor": 2
}
